{
 "cells": [
  {
   "cell_type": "code",
   "execution_count": 1,
   "metadata": {},
   "outputs": [
    {
     "name": "stdout",
     "output_type": "stream",
     "text": [
      "\u001b[33mWARN: gym.spaces.Box autodetected dtype as <class 'numpy.float32'>. Please provide explicit dtype.\u001b[0m\n",
      "\u001b[33mWARN: gym.spaces.Box autodetected dtype as <class 'numpy.float32'>. Please provide explicit dtype.\u001b[0m\n"
     ]
    }
   ],
   "source": [
    "import torch\n",
    "import torch.nn as nn\n",
    "import gym\n",
    "from itertools import count\n",
    "import numpy as np\n",
    "import random\n",
    "\n",
    "envs = ['CartPole-v1','Acrobot-v1','MountainCar-v0','Pendulum-v0']\n",
    "env = gym.make(envs[3]).unwrapped\n",
    "\n",
    "discrete_actions = False\n",
    "\n",
    "#TODO\n",
    "#parralel fitness measuring\n",
    "#evolution"
   ]
  },
  {
   "cell_type": "code",
   "execution_count": 2,
   "metadata": {},
   "outputs": [
    {
     "name": "stdout",
     "output_type": "stream",
     "text": [
      "tensor([[ 0.0473,  0.1837,  0.4698],\n",
      "        [-0.5771,  0.4581, -0.5285],\n",
      "        [ 0.2652,  0.4029,  0.2867],\n",
      "        [ 0.4585, -0.3544,  0.5019],\n",
      "        [-0.0543, -0.0979, -0.0702],\n",
      "        [ 0.2711, -0.3166,  0.3526],\n",
      "        [ 0.4064, -0.2628,  0.5121],\n",
      "        [-0.5243, -0.2160,  0.0920]])\n",
      "tensor([[ 0.2439, -0.2781,  0.0891],\n",
      "        [ 0.1204,  0.1309, -0.1824],\n",
      "        [ 0.0966,  0.5095, -0.1276],\n",
      "        [ 0.2335,  0.5395,  0.0961],\n",
      "        [ 0.1277,  0.3814, -0.4740],\n",
      "        [ 0.1252,  0.1574, -0.1964],\n",
      "        [ 0.3063,  0.4054,  0.4641],\n",
      "        [-0.0790,  0.4458, -0.3336]])\n",
      "tensor([[ 0.0473,  0.1837,  0.0891],\n",
      "        [-0.5771,  0.4581, -0.1824],\n",
      "        [ 0.0966,  0.4029, -0.1276],\n",
      "        [ 0.4585,  0.5395,  0.0961],\n",
      "        [-0.0543, -0.0979, -0.4740],\n",
      "        [ 0.2711,  0.1574,  0.3526],\n",
      "        [ 0.4064,  0.4054,  0.4641],\n",
      "        [-0.5243,  0.4458,  0.0920]])\n",
      " \n",
      "tensor([ 0.3066,  0.3515,  0.5493, -0.5520, -0.1393, -0.3880, -0.4972,\n",
      "        -0.0338])\n",
      "tensor([ 0.1991,  0.2142, -0.3876,  0.1319,  0.5265, -0.4199,  0.3422,\n",
      "         0.4131])\n",
      "tensor([ 0.3066,  0.2142,  0.5493, -0.5520,  0.5265, -0.3880, -0.4972,\n",
      "         0.4131])\n",
      " \n",
      "tensor([[ 0.1891,  0.3241, -0.2371, -0.2347, -0.0966, -0.0706, -0.0083,\n",
      "         -0.1634]])\n",
      "tensor([[ 0.0828,  0.2216, -0.2949, -0.1998, -0.2608,  0.1248,  0.0672,\n",
      "          0.3021]])\n",
      "tensor([[ 0.0828,  0.2216, -0.2371, -0.1998, -0.2608,  0.1248, -0.0083,\n",
      "          0.3021]])\n",
      " \n",
      "tensor([-0.2104])\n",
      "tensor([ 0.1189])\n",
      "tensor([-0.2104])\n",
      " \n"
     ]
    }
   ],
   "source": [
    "device = torch.device('cuda:0' if torch.cuda.is_available() else 'cpu')\n",
    "class Creature(nn.Module):\n",
    "    def __init__(self, hidden_num = 8):\n",
    "        super(Creature, self).__init__()\n",
    "    \n",
    "        self.layer1 = nn.Linear(env.observation_space.shape[0], hidden_num)\n",
    "        #self.layer2 = nn.Linear(hidden_num, env.action_space.shape[0])\n",
    "        if discrete_actions:\n",
    "            self.layer2 = nn.Linear(hidden_num, env.action_space.n)\n",
    "        else:\n",
    "            self.layer2 = nn.Linear(hidden_num, env.action_space.shape[0])\n",
    "    def forward(self, x):\n",
    "        out = self.layer1(x)\n",
    "        out = self.layer2(out)\n",
    "        return out\n",
    "    \n",
    "mom = Creature()\n",
    "dad = Creature()\n",
    "\n",
    "def mate(mom,dad):\n",
    "    child = Creature()\n",
    "    child.load_state_dict(mom.state_dict()) \n",
    "    for m1,m2,c in zip(mom.parameters(),dad.parameters(),child.parameters()):\n",
    "        #i.data += 5\n",
    "        flat1 = m1.data.view(m1.numel())\n",
    "        flat2 = m2.data.view(m2.numel())\n",
    "        c_flat = c.data.view(c.numel())\n",
    "\n",
    "        #one parents genes are more dominant\n",
    "        dominance = random.uniform(0, 1)\n",
    "        r = np.random.choice([True, False], m1.numel(),p=[dominance,1-dominance])\n",
    "\n",
    "        #print(flat1,flat2)\n",
    "        c_flat.numpy()[r] = flat2.numpy()[r]\n",
    "\n",
    "\n",
    "        unflat = c_flat.data.view(c.shape)\n",
    "        c.data = unflat\n",
    "        #print(i.data)\n",
    "    return child\n",
    "child = mate(mom,dad)\n",
    "    \n",
    "for m1,m2,c in zip(mom.parameters(),dad.parameters(),child.parameters()):\n",
    "    print(m1.data)\n",
    "    print(m2.data)\n",
    "    print(c.data)\n",
    "    print(\" \")\n",
    "\n"
   ]
  },
  {
   "cell_type": "code",
   "execution_count": 111,
   "metadata": {},
   "outputs": [
    {
     "name": "stdout",
     "output_type": "stream",
     "text": [
      "[0 1 2 3 4 5 6 7 8 9] [10 11 12 13 14 15 16 17 18 19]\n",
      "[ True  True False False False False  True False  True  True]\n",
      "[ 0  1 12 13 14 15  6 17  8  9]\n"
     ]
    }
   ],
   "source": [
    "x = np.arange(10)\n",
    "y = np.arange(10, 20)\n",
    "print(x,y)\n",
    "r = np.random.choice([True, False], 10,p=[0.7,0.3])\n",
    "print(r)\n",
    "z = y.copy()\n",
    "z[r] = x[r]\n",
    "print(z)"
   ]
  },
  {
   "cell_type": "code",
   "execution_count": 3,
   "metadata": {},
   "outputs": [],
   "source": [
    "#randomly inititialise starting population\n",
    "population_size = 100\n",
    "population = []\n",
    "for p in range(population_size):\n",
    "    population.append(Creature().to(device))"
   ]
  },
  {
   "cell_type": "code",
   "execution_count": 4,
   "metadata": {},
   "outputs": [],
   "source": [
    "obs = torch.from_numpy(env.reset()).to(device).type('torch.cuda.FloatTensor')\n"
   ]
  },
  {
   "cell_type": "code",
   "execution_count": 5,
   "metadata": {},
   "outputs": [],
   "source": [
    "def measure_fitness(creature,render = False,max_steps = 1000):\n",
    "    observation = env.reset()\n",
    "    #creature fitness is cumulative reward in simulation\n",
    "    total_reward = 0\n",
    "    for i in range(max_steps):\n",
    "        if render:\n",
    "            env.render()\n",
    "        #convert observation into tensor\n",
    "        obs = torch.from_numpy(observation).to(device).type('torch.cuda.FloatTensor')\n",
    "        \n",
    "        #get action\n",
    "        if discrete_actions:\n",
    "            action = creature(obs).max(-1)[1].item()\n",
    "        else:\n",
    "            action = creature(obs).detach().cpu().numpy()\n",
    "        observation, reward, done, _ = env.step(action)\n",
    "        \n",
    "        total_reward += reward\n",
    "        if done:\n",
    "            break\n",
    "    return total_reward"
   ]
  },
  {
   "cell_type": "code",
   "execution_count": 6,
   "metadata": {},
   "outputs": [],
   "source": [
    "def softmax(x):\n",
    "    e_x = np.exp(x - np.max(x))\n",
    "    return e_x / e_x.sum(axis=0)\n",
    "#measure fitness of entire population and return scores\n",
    "def measure_population_fitness(population,max_steps = 300):\n",
    "    scores = []\n",
    "    for idx,p in enumerate(population):\n",
    "        print(idx)\n",
    "        fitness = measure_fitness(p,max_steps = max_steps)\n",
    "        scores.append(fitness)\n",
    "    return np.array(scores)"
   ]
  },
  {
   "cell_type": "code",
   "execution_count": 7,
   "metadata": {
    "scrolled": true
   },
   "outputs": [
    {
     "name": "stdout",
     "output_type": "stream",
     "text": [
      "0\n",
      "1\n",
      "2\n",
      "3\n",
      "4\n",
      "5\n",
      "6\n",
      "7\n",
      "8\n",
      "9\n",
      "10\n",
      "11\n",
      "12\n",
      "13\n",
      "14\n",
      "15\n",
      "16\n",
      "17\n",
      "18\n",
      "19\n",
      "20\n",
      "21\n",
      "22\n",
      "23\n",
      "24\n",
      "25\n",
      "26\n",
      "27\n",
      "28\n",
      "29\n",
      "30\n",
      "31\n",
      "32\n",
      "33\n",
      "34\n",
      "35\n",
      "36\n",
      "37\n",
      "38\n",
      "39\n",
      "40\n",
      "41\n",
      "42\n",
      "43\n",
      "44\n",
      "45\n",
      "46\n",
      "47\n",
      "48\n",
      "49\n",
      "50\n",
      "51\n",
      "52\n",
      "53\n",
      "54\n",
      "55\n",
      "56\n",
      "57\n",
      "58\n",
      "59\n",
      "60\n",
      "61\n",
      "62\n",
      "63\n",
      "64\n",
      "65\n",
      "66\n",
      "67\n",
      "68\n",
      "69\n",
      "70\n",
      "71\n",
      "72\n",
      "73\n",
      "74\n",
      "75\n",
      "76\n",
      "77\n",
      "78\n",
      "79\n",
      "80\n",
      "81\n",
      "82\n",
      "83\n",
      "84\n",
      "85\n",
      "86\n",
      "87\n",
      "88\n",
      "89\n",
      "90\n",
      "91\n",
      "92\n",
      "93\n",
      "94\n",
      "95\n",
      "96\n",
      "97\n",
      "98\n",
      "99\n"
     ]
    }
   ],
   "source": [
    "p_fitness = measure_population_fitness(population)\n",
    "\n",
    "#measure_fitness(population[np.argmax(p_fitness)],render = True)\n",
    "#print(measure_fitness(model,True))\n",
    "#print(measure_fitness(model))"
   ]
  },
  {
   "cell_type": "code",
   "execution_count": 44,
   "metadata": {
    "scrolled": false
   },
   "outputs": [
    {
     "name": "stdout",
     "output_type": "stream",
     "text": [
      "[0.0121759  0.00917571 0.02103654 0.00791023 0.00855724 0.00448212\n",
      " 0.02340363 0.00490934 0.00716258 0.00734274 0.00348933 0.00531925\n",
      " 0.00998742 0.01657366 0.01681952 0.00743754 0.00756675 0.00748848\n",
      " 0.00666358 0.00756149 0.00628533 0.00548414 0.02288566 0.01120542\n",
      " 0.01285593 0.00707504 0.00535717 0.00564322 0.00554573 0.0236652\n",
      " 0.01225385 0.01528603 0.00627116 0.01281166 0.01392599 0.01430518\n",
      " 0.00665845 0.00926741 0.0062179  0.00785777 0.00627367 0.00460667\n",
      " 0.00351428 0.0097971  0.00431433 0.0068385  0.0164409  0.01762191\n",
      " 0.01059027 0.00382875 0.00728133 0.01519302 0.01339675 0.01968841\n",
      " 0.00522307 0.02010186 0.01341094 0.01217117 0.01386342 0.00651563\n",
      " 0.02246679 0.00737287 0.00664302 0.00939048 0.00845052 0.00400199\n",
      " 0.00805406 0.0106018  0.01931039 0.0060341  0.00957818 0.00513996\n",
      " 0.0047739  0.00801562 0.00859838 0.00502484 0.00423238 0.01015207\n",
      " 0.01544109 0.00389625 0.01280557 0.01344588 0.01464916 0.0036391\n",
      " 0.00501362 0.0044097  0.00538142 0.01981598 0.00599721 0.00532885\n",
      " 0.00682802 0.02229875 0.01850414 0.00526945 0.00471227 0.02206442\n",
      " 0.00625717 0.00774769 0.01259536 0.0094643 ]\n",
      "[ 0  2  2  2  3  4  6  6  9 11 11 12 13 13 13 14 14 15 19 20 22 24 24 24\n",
      " 26 26 26 28 29 29 30 30 32 32 33 33 33 34 34 40 43 47 47 49 50 50 51 53\n",
      " 55 55 55 56 56 56 57 58 59 59 59 60 61 63 64 69 70 74 77 78 78 78 80 80\n",
      " 81 81 82 82 83 87 87 87 87 88 89 91 92 92 92 92 92 93 93 93 95 96 97 98\n",
      " 98 99 99 99]\n"
     ]
    }
   ],
   "source": [
    "normed = p_fitness- np.mean(p_fitness)\n",
    "normed = normed/np.max(np.abs(normed))\n",
    "pick_probabilities = softmax(normed)\n",
    "print(pick_probabilities)\n",
    "choice = np.random.choice(pick_probabilities.size,population_size, p = pick_probabilities)\n",
    "print(np.sort(choice))"
   ]
  },
  {
   "cell_type": "raw",
   "metadata": {},
   "source": [
    "print((p_fitness - np.mean(p_fitness))/np.max(np.abs(p_fitness - np.mean(p_fitness))))"
   ]
  },
  {
   "cell_type": "raw",
   "metadata": {
    "scrolled": true
   },
   "source": [
    "env.reset()\n",
    "num_episodes = 1\n",
    "\n",
    "for e in range(num_episodes):\n",
    "    env.reset()\n",
    "    for t in count():\n",
    "        \n",
    "        #screen = env.render(mode='rgb_array')\n",
    "        _, reward, done, _ = env.step(0)\n",
    "        print(reward)\n",
    "        if done:\n",
    "            break\n",
    "            \n"
   ]
  },
  {
   "cell_type": "code",
   "execution_count": null,
   "metadata": {},
   "outputs": [],
   "source": []
  }
 ],
 "metadata": {
  "kernelspec": {
   "display_name": "Python 3",
   "language": "python",
   "name": "python3"
  },
  "language_info": {
   "codemirror_mode": {
    "name": "ipython",
    "version": 3
   },
   "file_extension": ".py",
   "mimetype": "text/x-python",
   "name": "python",
   "nbconvert_exporter": "python",
   "pygments_lexer": "ipython3",
   "version": "3.6.5"
  }
 },
 "nbformat": 4,
 "nbformat_minor": 2
}
