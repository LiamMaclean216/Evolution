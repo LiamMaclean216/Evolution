{
 "cells": [
  {
   "cell_type": "code",
   "execution_count": 1,
   "metadata": {},
   "outputs": [
    {
     "name": "stdout",
     "output_type": "stream",
     "text": [
      "\u001b[33mWARN: gym.spaces.Box autodetected dtype as <class 'numpy.float32'>. Please provide explicit dtype.\u001b[0m\n"
     ]
    }
   ],
   "source": [
    "import torch\n",
    "import torch.nn as nn\n",
    "import gym\n",
    "from itertools import count\n",
    "import numpy as np\n",
    "import random\n",
    "\n",
    "envs = ['CartPole-v1','Acrobot-v1','MountainCar-v0','Pendulum-v0']\n",
    "env = gym.make(envs[0]).unwrapped\n",
    "\n",
    "discrete_actions = True\n",
    "\n",
    "#TODO\n",
    "#parralel fitness measuring\n"
   ]
  },
  {
   "cell_type": "code",
   "execution_count": 2,
   "metadata": {},
   "outputs": [],
   "source": [
    "device = torch.device('cuda:0' if torch.cuda.is_available() else 'cpu')\n",
    "class Creature(nn.Module):\n",
    "    def __init__(self, hidden_num = 4):\n",
    "        super(Creature, self).__init__()\n",
    "    \n",
    "        self.layer1 = nn.Linear(env.observation_space.shape[0], hidden_num)\n",
    "        self.layer2 = nn.Linear(hidden_num, hidden_num)\n",
    "        \n",
    "        if discrete_actions:\n",
    "            self.layer3 = nn.Linear(hidden_num, env.action_space.n)\n",
    "        else:\n",
    "            self.layer3 = nn.Linear(hidden_num, env.action_space.shape[0])\n",
    "    \n",
    "    def forward(self, x):\n",
    "        out = self.layer1(x)\n",
    "        out = self.layer2(out)\n",
    "        out = self.layer3(out)\n",
    "        return out\n",
    "    \n",
    "    \n",
    "\n",
    "\n",
    "\n",
    "#print(np.random.normal())\n"
   ]
  },
  {
   "cell_type": "code",
   "execution_count": 3,
   "metadata": {},
   "outputs": [],
   "source": [
    "def measure_fitness(creature,render = False,max_steps = 1000):\n",
    "    observation = env.reset()\n",
    "    #creature fitness is cumulative reward in simulation\n",
    "    total_reward = 0\n",
    "    for i in range(max_steps):\n",
    "        if render:\n",
    "            \n",
    "            env.render()\n",
    "        #convert observation into tensor\n",
    "        obs = torch.from_numpy(observation).to(device).type('torch.cuda.FloatTensor')\n",
    "        \n",
    "        #get action\n",
    "        if discrete_actions:\n",
    "            action = creature(obs).max(-1)[1].item()\n",
    "        else:\n",
    "            action = creature(obs).detach().cpu().numpy()\n",
    "        observation, reward, done, _ = env.step(action)\n",
    "        \n",
    "        total_reward += reward\n",
    "        \n",
    "        if done:\n",
    "            break\n",
    "    return total_reward"
   ]
  },
  {
   "cell_type": "code",
   "execution_count": 4,
   "metadata": {},
   "outputs": [],
   "source": [
    "\n",
    "#measure fitness of entire population and return scores\n",
    "def measure_population_fitness(population,max_steps = 1000):\n",
    "    scores = []\n",
    "    for idx,p in enumerate(population):\n",
    "       #print(\"measuring fitness : {}\".format(idx))\n",
    "        fitness = measure_fitness(p,max_steps = max_steps)\n",
    "        scores.append(fitness)\n",
    "    return np.array(scores)"
   ]
  },
  {
   "cell_type": "code",
   "execution_count": 5,
   "metadata": {},
   "outputs": [],
   "source": [
    "def mutate(creature,mutation_rate=0.1):\n",
    "    new = Creature().to(device)\n",
    "    new.load_state_dict(creature.state_dict()) \n",
    "    for p in new.parameters():\n",
    "\n",
    "        mutation = np.random.normal(scale = 0.07,size = p.data.shape)\n",
    "        mutation *= np.random.choice([1, 0], p.data.shape,p=[mutation_rate,1-mutation_rate])\n",
    "        mutation = torch.from_numpy(mutation).type('torch.FloatTensor').to(device)\n",
    "        p.data += mutation\n",
    "    return new\n",
    "\n",
    "\n",
    "def mate(mom,dad,apply_mutation = True,dominance = 0.5):\n",
    "    child = Creature()\n",
    "    child.load_state_dict(mom.state_dict()) \n",
    "    for m1,m2,c in zip(mom.parameters(),dad.parameters(),child.parameters()):\n",
    "        #flatten all model weights into vectors\n",
    "        flat1 = m1.data.view(m1.numel()).cpu()\n",
    "        flat2 = m2.data.view(m2.numel()).cpu()\n",
    "        c_flat = c.data.view(c.numel())\n",
    "\n",
    "        #one parents genes are more dominant\n",
    "        #dominance = random.uniform(0, 1)\n",
    "        \n",
    "        r = np.random.choice([True, False], m1.numel(),p=[dominance,1-dominance])\n",
    "\n",
    "        c_flat.numpy()[r] = flat2.numpy()[r]\n",
    "\n",
    "        #unflatten and assign new weights to child\n",
    "        unflat = c_flat.data.view(c.shape)\n",
    "        c.data = unflat\n",
    "        \n",
    "    if apply_mutation:\n",
    "        child = mutate(child)\n",
    "    return child\n",
    "\n",
    "     \n",
    "\n",
    "def softmax(x):\n",
    "    e_x = np.exp(x - np.max(x))\n",
    "    return e_x / e_x.sum(axis=0)\n",
    "\n",
    "def evolve(population,mutate = True):\n",
    "    p_fitness = measure_population_fitness(population,max_steps = 500)\n",
    "    p_fitness_positive = p_fitness + np.min(p_fitness) + 1\n",
    "    #normed = p_fitness- np.mean(p_fitness)\n",
    "    #normed = normed/np.max(np.abs(normed))\n",
    "    #pick_probabilities = softmax(normed)\n",
    "    normed = p_fitness- np.mean(p_fitness)\n",
    "    normed -= np.min(normed)\n",
    "    normed = np.power(normed, 0.5)\n",
    "    pick_probabilities = normed/np.sum(normed)\n",
    "    \n",
    "    \n",
    "    choice = np.random.choice(pick_probabilities.size,population_size, p = pick_probabilities)\n",
    "    #print(np.sort(choice))\n",
    "    new_population = []\n",
    "    \n",
    "    for p in range(len(population)-1):\n",
    "        #more succesful(healthier?) creature has greater genetic dominance\n",
    "        if p_fitness_positive[p] >= p_fitness_positive[p+1]:\n",
    "            dominance = (p_fitness_positive[p+1]/p_fitness_positive[p])*0.7\n",
    "            child = mate(population[p+1],population[p], mutate,dominance).to(device)\n",
    "        else:\n",
    "            dominance = (p_fitness_positive[p]/p_fitness_positive[p+1])*0.7\n",
    "            child = mate(population[p],population[p+1], mutate,dominance).to(device)\n",
    "            \n",
    "        #dominance = (np.min([p_fitness_positive[p],p_fitness_positive[p+1]])/\n",
    "        #             np.max([p_fitness_positive[p],p_fitness_positive[p+1]]))\n",
    "    \n",
    "        #print(dominance)\n",
    "        child = mate(population[p],population[p+1], mutate,dominance).to(device)\n",
    "        new_population.append(child)\n",
    "    child = mate(population[0],population[len(population)-1]).to(device) \n",
    "    new_population.append(child)\n",
    "    \n",
    "    return new_population, p_fitness\n",
    "\n"
   ]
  },
  {
   "cell_type": "code",
   "execution_count": null,
   "metadata": {
    "scrolled": false
   },
   "outputs": [
    {
     "name": "stdout",
     "output_type": "stream",
     "text": [
      "starting training\n",
      "Generation 1  fitness : 22.0\n",
      "Generation 2  fitness : 79.0\n",
      "Generation 3  fitness : 90.0\n",
      "Generation 4  fitness : 48.0\n",
      "Generation 5  fitness : 78.0\n",
      "Generation 6  fitness : 71.0\n",
      "Generation 7  fitness : 120.0\n",
      "Generation 8  fitness : 88.0\n",
      "Generation 9  fitness : 125.0\n",
      "Generation 10  fitness : 199.0\n",
      "Generation 11  fitness : 49.0\n",
      "Generation 12  fitness : 102.0\n",
      "Generation 13  fitness : 112.0\n",
      "Generation 14  fitness : 50.0\n",
      "Generation 15  fitness : 97.0\n",
      "Generation 16  fitness : 47.0\n",
      "Generation 17  fitness : 197.0\n",
      "Generation 18  fitness : 61.0\n",
      "Generation 19  fitness : 104.0\n",
      "Generation 20  fitness : 405.0\n",
      "Generation 21  fitness : 244.0\n",
      "Generation 22  fitness : 204.0\n",
      "Generation 23  fitness : 77.0\n",
      "Generation 24  fitness : 325.0\n",
      "Generation 25  fitness : 218.0\n",
      "Generation 26  fitness : 98.0\n",
      "Generation 27  fitness : 500.0\n"
     ]
    }
   ],
   "source": [
    "#randomly inititialise starting population\n",
    "population_size = 100\n",
    "population = []\n",
    "\n",
    "for p in range(population_size):\n",
    "    population.append(Creature().to(device))\n",
    "print(\"starting training\")\n",
    "n_generations = 100\n",
    "for i in range(n_generations):\n",
    "    \n",
    "    population, p_fitness = evolve(population,True)\n",
    "    if i % 1 == 0:\n",
    "        fitness = measure_fitness(population[np.argmax(p_fitness)],render = True)\n",
    "    print(\"Generation {}  fitness : {}\".format(i+1,np.max(p_fitness)))\n",
    "    \n",
    "#population, p_fitness = evolve(population)\n",
    "#measure_fitness(population[np.argmax(p_fitness)],render = True)"
   ]
  },
  {
   "cell_type": "code",
   "execution_count": null,
   "metadata": {},
   "outputs": [],
   "source": [
    "print(np.random.choice([1, 0], [2,3],p=[0.1,0.9])*np.ones([2,3]))"
   ]
  },
  {
   "cell_type": "raw",
   "metadata": {},
   "source": [
    "p_fitness = measure_population_fitness(population)\n"
   ]
  },
  {
   "cell_type": "raw",
   "metadata": {},
   "source": [
    "normed = p_fitness- np.mean(p_fitness)\n",
    "normed -= np.min(normed)\n",
    "normed = np.power(normed, 2)\n",
    "pick_probabilities = normed/np.sum(normed)\n",
    "#pick_probabilities = (normed)\n",
    "print(np.sort(pick_probabilities))\n",
    "#choice = np.random.choice(pick_probabilities.size,population_size, p = pick_probabilities)"
   ]
  },
  {
   "cell_type": "code",
   "execution_count": null,
   "metadata": {},
   "outputs": [],
   "source": []
  }
 ],
 "metadata": {
  "kernelspec": {
   "display_name": "Python 3",
   "language": "python",
   "name": "python3"
  },
  "language_info": {
   "codemirror_mode": {
    "name": "ipython",
    "version": 3
   },
   "file_extension": ".py",
   "mimetype": "text/x-python",
   "name": "python",
   "nbconvert_exporter": "python",
   "pygments_lexer": "ipython3",
   "version": "3.6.5"
  }
 },
 "nbformat": 4,
 "nbformat_minor": 2
}
